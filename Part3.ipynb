{
 "cells": [
  {
   "cell_type": "markdown",
   "metadata": {},
   "source": [
    "## Part 3: Model predictions\n",
    "(See Parts 1 and 2 for 'Exploration of training dataset' and 'Replacing missing values and adding new features').\n",
    "\n",
    "Titanic challenge problem (https://www.kaggle.com/c/titanic/) offers an oppurtunity to practice your data mining and machine learning skills at a beginners level but with interesting challenges. The main goal of this challenge is to predict the fate of each passenger given basic information on his/her status.\n",
    "\n",
    "In this part, I will try make predictions using 'logistic regression' and 'random forests' using the features prepared in Part 2. \n",
    "\n",
    "To fine-tune relevant model parameters (and to avoid over-fitting), we cross-examine the performance against the cross-validation dataset. \n",
    "\n",
    "We need:\n",
    "- Pandas (Statistical analysis)\n",
    "- Numpy (numerical package)\n",
    "- Matplotlib (plotting)\n",
    "- Scikit-Learn (Regression and classifiers)"
   ]
  },
  {
   "cell_type": "code",
   "execution_count": 356,
   "metadata": {
    "collapsed": false
   },
   "outputs": [],
   "source": [
    "%matplotlib inline\n",
    "import pandas as pd\n",
    "import numpy as np\n",
    "import matplotlib.pyplot as plt\n",
    "from sklearn.cross_validation import train_test_split\n",
    "from sklearn.linear_model import LogisticRegression\n",
    "from sklearn import preprocessing\n",
    "from sklearn.ensemble import RandomForestClassifier"
   ]
  },
  {
   "cell_type": "markdown",
   "metadata": {},
   "source": [
    "Import polished data from Part 2. "
   ]
  },
  {
   "cell_type": "code",
   "execution_count": 357,
   "metadata": {
    "collapsed": false
   },
   "outputs": [
    {
     "data": {
      "text/html": [
       "<div>\n",
       "<table border=\"1\" class=\"dataframe\">\n",
       "  <thead>\n",
       "    <tr style=\"text-align: right;\">\n",
       "      <th></th>\n",
       "      <th>PassengerId</th>\n",
       "      <th>Age</th>\n",
       "      <th>SibSp</th>\n",
       "      <th>Parch</th>\n",
       "      <th>Fare</th>\n",
       "      <th>Pclass_1</th>\n",
       "      <th>Pclass_2</th>\n",
       "      <th>Pclass_3</th>\n",
       "      <th>Title_Dr</th>\n",
       "      <th>Title_HighRanked</th>\n",
       "      <th>...</th>\n",
       "      <th>Title_Miss</th>\n",
       "      <th>Title_Mr</th>\n",
       "      <th>Title_Mrs</th>\n",
       "      <th>Title_Rev</th>\n",
       "      <th>Title_Royalty</th>\n",
       "      <th>Embarked_C</th>\n",
       "      <th>Embarked_Q</th>\n",
       "      <th>Embarked_S</th>\n",
       "      <th>Sex_female</th>\n",
       "      <th>Sex_male</th>\n",
       "    </tr>\n",
       "  </thead>\n",
       "  <tbody>\n",
       "    <tr>\n",
       "      <th>0</th>\n",
       "      <td>1</td>\n",
       "      <td>22.0</td>\n",
       "      <td>1</td>\n",
       "      <td>0</td>\n",
       "      <td>7.2500</td>\n",
       "      <td>0.0</td>\n",
       "      <td>0.0</td>\n",
       "      <td>1.0</td>\n",
       "      <td>0.0</td>\n",
       "      <td>0.0</td>\n",
       "      <td>...</td>\n",
       "      <td>0.0</td>\n",
       "      <td>1.0</td>\n",
       "      <td>0.0</td>\n",
       "      <td>0.0</td>\n",
       "      <td>0.0</td>\n",
       "      <td>0.0</td>\n",
       "      <td>0.0</td>\n",
       "      <td>1.0</td>\n",
       "      <td>0.0</td>\n",
       "      <td>1.0</td>\n",
       "    </tr>\n",
       "    <tr>\n",
       "      <th>1</th>\n",
       "      <td>2</td>\n",
       "      <td>38.0</td>\n",
       "      <td>1</td>\n",
       "      <td>0</td>\n",
       "      <td>71.2833</td>\n",
       "      <td>1.0</td>\n",
       "      <td>0.0</td>\n",
       "      <td>0.0</td>\n",
       "      <td>0.0</td>\n",
       "      <td>0.0</td>\n",
       "      <td>...</td>\n",
       "      <td>0.0</td>\n",
       "      <td>0.0</td>\n",
       "      <td>1.0</td>\n",
       "      <td>0.0</td>\n",
       "      <td>0.0</td>\n",
       "      <td>1.0</td>\n",
       "      <td>0.0</td>\n",
       "      <td>0.0</td>\n",
       "      <td>1.0</td>\n",
       "      <td>0.0</td>\n",
       "    </tr>\n",
       "    <tr>\n",
       "      <th>2</th>\n",
       "      <td>3</td>\n",
       "      <td>26.0</td>\n",
       "      <td>0</td>\n",
       "      <td>0</td>\n",
       "      <td>7.9250</td>\n",
       "      <td>0.0</td>\n",
       "      <td>0.0</td>\n",
       "      <td>1.0</td>\n",
       "      <td>0.0</td>\n",
       "      <td>0.0</td>\n",
       "      <td>...</td>\n",
       "      <td>1.0</td>\n",
       "      <td>0.0</td>\n",
       "      <td>0.0</td>\n",
       "      <td>0.0</td>\n",
       "      <td>0.0</td>\n",
       "      <td>0.0</td>\n",
       "      <td>0.0</td>\n",
       "      <td>1.0</td>\n",
       "      <td>1.0</td>\n",
       "      <td>0.0</td>\n",
       "    </tr>\n",
       "    <tr>\n",
       "      <th>3</th>\n",
       "      <td>4</td>\n",
       "      <td>35.0</td>\n",
       "      <td>1</td>\n",
       "      <td>0</td>\n",
       "      <td>53.1000</td>\n",
       "      <td>1.0</td>\n",
       "      <td>0.0</td>\n",
       "      <td>0.0</td>\n",
       "      <td>0.0</td>\n",
       "      <td>0.0</td>\n",
       "      <td>...</td>\n",
       "      <td>0.0</td>\n",
       "      <td>0.0</td>\n",
       "      <td>1.0</td>\n",
       "      <td>0.0</td>\n",
       "      <td>0.0</td>\n",
       "      <td>0.0</td>\n",
       "      <td>0.0</td>\n",
       "      <td>1.0</td>\n",
       "      <td>1.0</td>\n",
       "      <td>0.0</td>\n",
       "    </tr>\n",
       "    <tr>\n",
       "      <th>4</th>\n",
       "      <td>5</td>\n",
       "      <td>35.0</td>\n",
       "      <td>0</td>\n",
       "      <td>0</td>\n",
       "      <td>8.0500</td>\n",
       "      <td>0.0</td>\n",
       "      <td>0.0</td>\n",
       "      <td>1.0</td>\n",
       "      <td>0.0</td>\n",
       "      <td>0.0</td>\n",
       "      <td>...</td>\n",
       "      <td>0.0</td>\n",
       "      <td>1.0</td>\n",
       "      <td>0.0</td>\n",
       "      <td>0.0</td>\n",
       "      <td>0.0</td>\n",
       "      <td>0.0</td>\n",
       "      <td>0.0</td>\n",
       "      <td>1.0</td>\n",
       "      <td>0.0</td>\n",
       "      <td>1.0</td>\n",
       "    </tr>\n",
       "  </tbody>\n",
       "</table>\n",
       "<p>5 rows × 21 columns</p>\n",
       "</div>"
      ],
      "text/plain": [
       "   PassengerId   Age  SibSp  Parch     Fare  Pclass_1  Pclass_2  Pclass_3  \\\n",
       "0            1  22.0      1      0   7.2500       0.0       0.0       1.0   \n",
       "1            2  38.0      1      0  71.2833       1.0       0.0       0.0   \n",
       "2            3  26.0      0      0   7.9250       0.0       0.0       1.0   \n",
       "3            4  35.0      1      0  53.1000       1.0       0.0       0.0   \n",
       "4            5  35.0      0      0   8.0500       0.0       0.0       1.0   \n",
       "\n",
       "   Title_Dr  Title_HighRanked    ...     Title_Miss  Title_Mr  Title_Mrs  \\\n",
       "0       0.0               0.0    ...            0.0       1.0        0.0   \n",
       "1       0.0               0.0    ...            0.0       0.0        1.0   \n",
       "2       0.0               0.0    ...            1.0       0.0        0.0   \n",
       "3       0.0               0.0    ...            0.0       0.0        1.0   \n",
       "4       0.0               0.0    ...            0.0       1.0        0.0   \n",
       "\n",
       "   Title_Rev  Title_Royalty  Embarked_C  Embarked_Q  Embarked_S  Sex_female  \\\n",
       "0        0.0            0.0         0.0         0.0         1.0         0.0   \n",
       "1        0.0            0.0         1.0         0.0         0.0         1.0   \n",
       "2        0.0            0.0         0.0         0.0         1.0         1.0   \n",
       "3        0.0            0.0         0.0         0.0         1.0         1.0   \n",
       "4        0.0            0.0         0.0         0.0         1.0         0.0   \n",
       "\n",
       "   Sex_male  \n",
       "0       1.0  \n",
       "1       0.0  \n",
       "2       0.0  \n",
       "3       0.0  \n",
       "4       1.0  \n",
       "\n",
       "[5 rows x 21 columns]"
      ]
     },
     "execution_count": 357,
     "metadata": {},
     "output_type": "execute_result"
    }
   ],
   "source": [
    "data_ = pd.read_csv('polished.csv')\n",
    "data_.head()"
   ]
  },
  {
   "cell_type": "markdown",
   "metadata": {},
   "source": [
    "It is important to normalize the features first since some models are sensitive to values of different magnitudes. \n",
    "We normalize the features using min/max procedure. "
   ]
  },
  {
   "cell_type": "code",
   "execution_count": 358,
   "metadata": {
    "collapsed": false
   },
   "outputs": [],
   "source": [
    "def normalize_data(df_in):\n",
    "    \n",
    "    df = df_in.copy()\n",
    "    for feat_name in df.columns:\n",
    "        max_value = df[feat_name].max()\n",
    "        min_value = df[feat_name].min()\n",
    "        df[feat_name] = (df[feat_name] - min_value) / float(max_value - min_value)\n",
    "    return df"
   ]
  },
  {
   "cell_type": "code",
   "execution_count": 359,
   "metadata": {
    "collapsed": false
   },
   "outputs": [
    {
     "name": "stdout",
     "output_type": "stream",
     "text": [
      "<class 'pandas.core.frame.DataFrame'>\n",
      "RangeIndex: 1309 entries, 0 to 1308\n",
      "Data columns (total 21 columns):\n",
      "PassengerId         1309 non-null float64\n",
      "Age                 1309 non-null float64\n",
      "SibSp               1309 non-null float64\n",
      "Parch               1309 non-null float64\n",
      "Fare                1309 non-null float64\n",
      "Pclass_1            1309 non-null float64\n",
      "Pclass_2            1309 non-null float64\n",
      "Pclass_3            1309 non-null float64\n",
      "Title_Dr            1309 non-null float64\n",
      "Title_HighRanked    1309 non-null float64\n",
      "Title_Master        1309 non-null float64\n",
      "Title_Miss          1309 non-null float64\n",
      "Title_Mr            1309 non-null float64\n",
      "Title_Mrs           1309 non-null float64\n",
      "Title_Rev           1309 non-null float64\n",
      "Title_Royalty       1309 non-null float64\n",
      "Embarked_C          1309 non-null float64\n",
      "Embarked_Q          1309 non-null float64\n",
      "Embarked_S          1309 non-null float64\n",
      "Sex_female          1309 non-null float64\n",
      "Sex_male            1309 non-null float64\n",
      "dtypes: float64(21)\n",
      "memory usage: 214.8 KB\n"
     ]
    }
   ],
   "source": [
    "data = normalize_data(data_)\n",
    "data.info()"
   ]
  },
  {
   "cell_type": "markdown",
   "metadata": {},
   "source": [
    "Add 'Survived' from the training dataset to the polished data. "
   ]
  },
  {
   "cell_type": "code",
   "execution_count": 360,
   "metadata": {
    "collapsed": false
   },
   "outputs": [],
   "source": [
    "data_t = pd.read_csv('train.csv')\n",
    "Survived = data_t[['Survived']]\n",
    "del data_t"
   ]
  },
  {
   "cell_type": "code",
   "execution_count": 361,
   "metadata": {
    "collapsed": false
   },
   "outputs": [
    {
     "data": {
      "text/html": [
       "<div>\n",
       "<table border=\"1\" class=\"dataframe\">\n",
       "  <thead>\n",
       "    <tr style=\"text-align: right;\">\n",
       "      <th></th>\n",
       "      <th>Survived</th>\n",
       "    </tr>\n",
       "  </thead>\n",
       "  <tbody>\n",
       "    <tr>\n",
       "      <th>0</th>\n",
       "      <td>0</td>\n",
       "    </tr>\n",
       "    <tr>\n",
       "      <th>1</th>\n",
       "      <td>1</td>\n",
       "    </tr>\n",
       "    <tr>\n",
       "      <th>2</th>\n",
       "      <td>1</td>\n",
       "    </tr>\n",
       "    <tr>\n",
       "      <th>3</th>\n",
       "      <td>1</td>\n",
       "    </tr>\n",
       "    <tr>\n",
       "      <th>4</th>\n",
       "      <td>0</td>\n",
       "    </tr>\n",
       "  </tbody>\n",
       "</table>\n",
       "</div>"
      ],
      "text/plain": [
       "   Survived\n",
       "0         0\n",
       "1         1\n",
       "2         1\n",
       "3         1\n",
       "4         0"
      ]
     },
     "execution_count": 361,
     "metadata": {},
     "output_type": "execute_result"
    }
   ],
   "source": [
    "Survived.head()"
   ]
  },
  {
   "cell_type": "code",
   "execution_count": 375,
   "metadata": {
    "collapsed": false
   },
   "outputs": [
    {
     "data": {
      "text/html": [
       "<div>\n",
       "<table border=\"1\" class=\"dataframe\">\n",
       "  <thead>\n",
       "    <tr style=\"text-align: right;\">\n",
       "      <th></th>\n",
       "      <th>Survived</th>\n",
       "      <th>PassengerId</th>\n",
       "      <th>Age</th>\n",
       "      <th>SibSp</th>\n",
       "      <th>Parch</th>\n",
       "      <th>Fare</th>\n",
       "      <th>Pclass_1</th>\n",
       "      <th>Pclass_2</th>\n",
       "      <th>Pclass_3</th>\n",
       "      <th>Title_Dr</th>\n",
       "      <th>...</th>\n",
       "      <th>Title_Miss</th>\n",
       "      <th>Title_Mr</th>\n",
       "      <th>Title_Mrs</th>\n",
       "      <th>Title_Rev</th>\n",
       "      <th>Title_Royalty</th>\n",
       "      <th>Embarked_C</th>\n",
       "      <th>Embarked_Q</th>\n",
       "      <th>Embarked_S</th>\n",
       "      <th>Sex_female</th>\n",
       "      <th>Sex_male</th>\n",
       "    </tr>\n",
       "  </thead>\n",
       "  <tbody>\n",
       "    <tr>\n",
       "      <th>count</th>\n",
       "      <td>891.000000</td>\n",
       "      <td>891.000000</td>\n",
       "      <td>891.000000</td>\n",
       "      <td>891.000000</td>\n",
       "      <td>891.000000</td>\n",
       "      <td>891.000000</td>\n",
       "      <td>891.000000</td>\n",
       "      <td>891.000000</td>\n",
       "      <td>891.000000</td>\n",
       "      <td>891.000000</td>\n",
       "      <td>...</td>\n",
       "      <td>891.000000</td>\n",
       "      <td>891.000000</td>\n",
       "      <td>891.000000</td>\n",
       "      <td>891.000000</td>\n",
       "      <td>891.000000</td>\n",
       "      <td>891.000000</td>\n",
       "      <td>891.000000</td>\n",
       "      <td>891.000000</td>\n",
       "      <td>891.000000</td>\n",
       "      <td>891.000000</td>\n",
       "    </tr>\n",
       "    <tr>\n",
       "      <th>mean</th>\n",
       "      <td>0.383838</td>\n",
       "      <td>0.340214</td>\n",
       "      <td>0.363704</td>\n",
       "      <td>0.065376</td>\n",
       "      <td>0.042399</td>\n",
       "      <td>0.062858</td>\n",
       "      <td>0.242424</td>\n",
       "      <td>0.206510</td>\n",
       "      <td>0.551066</td>\n",
       "      <td>0.007856</td>\n",
       "      <td>...</td>\n",
       "      <td>0.207632</td>\n",
       "      <td>0.580247</td>\n",
       "      <td>0.141414</td>\n",
       "      <td>0.006734</td>\n",
       "      <td>0.005612</td>\n",
       "      <td>0.190797</td>\n",
       "      <td>0.086420</td>\n",
       "      <td>0.722783</td>\n",
       "      <td>0.352413</td>\n",
       "      <td>0.647587</td>\n",
       "    </tr>\n",
       "    <tr>\n",
       "      <th>std</th>\n",
       "      <td>0.486592</td>\n",
       "      <td>0.196754</td>\n",
       "      <td>0.169768</td>\n",
       "      <td>0.137843</td>\n",
       "      <td>0.089562</td>\n",
       "      <td>0.096995</td>\n",
       "      <td>0.428790</td>\n",
       "      <td>0.405028</td>\n",
       "      <td>0.497665</td>\n",
       "      <td>0.088337</td>\n",
       "      <td>...</td>\n",
       "      <td>0.405840</td>\n",
       "      <td>0.493796</td>\n",
       "      <td>0.348644</td>\n",
       "      <td>0.081830</td>\n",
       "      <td>0.074743</td>\n",
       "      <td>0.393150</td>\n",
       "      <td>0.281141</td>\n",
       "      <td>0.447876</td>\n",
       "      <td>0.477990</td>\n",
       "      <td>0.477990</td>\n",
       "    </tr>\n",
       "    <tr>\n",
       "      <th>min</th>\n",
       "      <td>0.000000</td>\n",
       "      <td>0.000000</td>\n",
       "      <td>0.003132</td>\n",
       "      <td>0.000000</td>\n",
       "      <td>0.000000</td>\n",
       "      <td>0.000000</td>\n",
       "      <td>0.000000</td>\n",
       "      <td>0.000000</td>\n",
       "      <td>0.000000</td>\n",
       "      <td>0.000000</td>\n",
       "      <td>...</td>\n",
       "      <td>0.000000</td>\n",
       "      <td>0.000000</td>\n",
       "      <td>0.000000</td>\n",
       "      <td>0.000000</td>\n",
       "      <td>0.000000</td>\n",
       "      <td>0.000000</td>\n",
       "      <td>0.000000</td>\n",
       "      <td>0.000000</td>\n",
       "      <td>0.000000</td>\n",
       "      <td>0.000000</td>\n",
       "    </tr>\n",
       "    <tr>\n",
       "      <th>25%</th>\n",
       "      <td>0.000000</td>\n",
       "      <td>0.170107</td>\n",
       "      <td>0.260929</td>\n",
       "      <td>0.000000</td>\n",
       "      <td>0.000000</td>\n",
       "      <td>0.015440</td>\n",
       "      <td>0.000000</td>\n",
       "      <td>0.000000</td>\n",
       "      <td>0.000000</td>\n",
       "      <td>0.000000</td>\n",
       "      <td>...</td>\n",
       "      <td>0.000000</td>\n",
       "      <td>0.000000</td>\n",
       "      <td>0.000000</td>\n",
       "      <td>0.000000</td>\n",
       "      <td>0.000000</td>\n",
       "      <td>0.000000</td>\n",
       "      <td>0.000000</td>\n",
       "      <td>0.000000</td>\n",
       "      <td>0.000000</td>\n",
       "      <td>0.000000</td>\n",
       "    </tr>\n",
       "    <tr>\n",
       "      <th>50%</th>\n",
       "      <td>0.000000</td>\n",
       "      <td>0.340214</td>\n",
       "      <td>0.323563</td>\n",
       "      <td>0.000000</td>\n",
       "      <td>0.000000</td>\n",
       "      <td>0.028213</td>\n",
       "      <td>0.000000</td>\n",
       "      <td>0.000000</td>\n",
       "      <td>1.000000</td>\n",
       "      <td>0.000000</td>\n",
       "      <td>...</td>\n",
       "      <td>0.000000</td>\n",
       "      <td>1.000000</td>\n",
       "      <td>0.000000</td>\n",
       "      <td>0.000000</td>\n",
       "      <td>0.000000</td>\n",
       "      <td>0.000000</td>\n",
       "      <td>0.000000</td>\n",
       "      <td>1.000000</td>\n",
       "      <td>0.000000</td>\n",
       "      <td>1.000000</td>\n",
       "    </tr>\n",
       "    <tr>\n",
       "      <th>75%</th>\n",
       "      <td>1.000000</td>\n",
       "      <td>0.510321</td>\n",
       "      <td>0.458224</td>\n",
       "      <td>0.125000</td>\n",
       "      <td>0.000000</td>\n",
       "      <td>0.060508</td>\n",
       "      <td>0.000000</td>\n",
       "      <td>0.000000</td>\n",
       "      <td>1.000000</td>\n",
       "      <td>0.000000</td>\n",
       "      <td>...</td>\n",
       "      <td>0.000000</td>\n",
       "      <td>1.000000</td>\n",
       "      <td>0.000000</td>\n",
       "      <td>0.000000</td>\n",
       "      <td>0.000000</td>\n",
       "      <td>0.000000</td>\n",
       "      <td>0.000000</td>\n",
       "      <td>1.000000</td>\n",
       "      <td>1.000000</td>\n",
       "      <td>1.000000</td>\n",
       "    </tr>\n",
       "    <tr>\n",
       "      <th>max</th>\n",
       "      <td>1.000000</td>\n",
       "      <td>0.680428</td>\n",
       "      <td>1.000000</td>\n",
       "      <td>1.000000</td>\n",
       "      <td>0.666667</td>\n",
       "      <td>1.000000</td>\n",
       "      <td>1.000000</td>\n",
       "      <td>1.000000</td>\n",
       "      <td>1.000000</td>\n",
       "      <td>1.000000</td>\n",
       "      <td>...</td>\n",
       "      <td>1.000000</td>\n",
       "      <td>1.000000</td>\n",
       "      <td>1.000000</td>\n",
       "      <td>1.000000</td>\n",
       "      <td>1.000000</td>\n",
       "      <td>1.000000</td>\n",
       "      <td>1.000000</td>\n",
       "      <td>1.000000</td>\n",
       "      <td>1.000000</td>\n",
       "      <td>1.000000</td>\n",
       "    </tr>\n",
       "  </tbody>\n",
       "</table>\n",
       "<p>8 rows × 22 columns</p>\n",
       "</div>"
      ],
      "text/plain": [
       "         Survived  PassengerId         Age       SibSp       Parch  \\\n",
       "count  891.000000   891.000000  891.000000  891.000000  891.000000   \n",
       "mean     0.383838     0.340214    0.363704    0.065376    0.042399   \n",
       "std      0.486592     0.196754    0.169768    0.137843    0.089562   \n",
       "min      0.000000     0.000000    0.003132    0.000000    0.000000   \n",
       "25%      0.000000     0.170107    0.260929    0.000000    0.000000   \n",
       "50%      0.000000     0.340214    0.323563    0.000000    0.000000   \n",
       "75%      1.000000     0.510321    0.458224    0.125000    0.000000   \n",
       "max      1.000000     0.680428    1.000000    1.000000    0.666667   \n",
       "\n",
       "             Fare    Pclass_1    Pclass_2    Pclass_3    Title_Dr     ...      \\\n",
       "count  891.000000  891.000000  891.000000  891.000000  891.000000     ...       \n",
       "mean     0.062858    0.242424    0.206510    0.551066    0.007856     ...       \n",
       "std      0.096995    0.428790    0.405028    0.497665    0.088337     ...       \n",
       "min      0.000000    0.000000    0.000000    0.000000    0.000000     ...       \n",
       "25%      0.015440    0.000000    0.000000    0.000000    0.000000     ...       \n",
       "50%      0.028213    0.000000    0.000000    1.000000    0.000000     ...       \n",
       "75%      0.060508    0.000000    0.000000    1.000000    0.000000     ...       \n",
       "max      1.000000    1.000000    1.000000    1.000000    1.000000     ...       \n",
       "\n",
       "       Title_Miss    Title_Mr   Title_Mrs   Title_Rev  Title_Royalty  \\\n",
       "count  891.000000  891.000000  891.000000  891.000000     891.000000   \n",
       "mean     0.207632    0.580247    0.141414    0.006734       0.005612   \n",
       "std      0.405840    0.493796    0.348644    0.081830       0.074743   \n",
       "min      0.000000    0.000000    0.000000    0.000000       0.000000   \n",
       "25%      0.000000    0.000000    0.000000    0.000000       0.000000   \n",
       "50%      0.000000    1.000000    0.000000    0.000000       0.000000   \n",
       "75%      0.000000    1.000000    0.000000    0.000000       0.000000   \n",
       "max      1.000000    1.000000    1.000000    1.000000       1.000000   \n",
       "\n",
       "       Embarked_C  Embarked_Q  Embarked_S  Sex_female    Sex_male  \n",
       "count  891.000000  891.000000  891.000000  891.000000  891.000000  \n",
       "mean     0.190797    0.086420    0.722783    0.352413    0.647587  \n",
       "std      0.393150    0.281141    0.447876    0.477990    0.477990  \n",
       "min      0.000000    0.000000    0.000000    0.000000    0.000000  \n",
       "25%      0.000000    0.000000    0.000000    0.000000    0.000000  \n",
       "50%      0.000000    0.000000    1.000000    0.000000    1.000000  \n",
       "75%      0.000000    0.000000    1.000000    1.000000    1.000000  \n",
       "max      1.000000    1.000000    1.000000    1.000000    1.000000  \n",
       "\n",
       "[8 rows x 22 columns]"
      ]
     },
     "execution_count": 375,
     "metadata": {},
     "output_type": "execute_result"
    }
   ],
   "source": [
    "# Training dataset (0-890)\n",
    "train_temp = data.ix[0:890]\n",
    "# Test dataset (891-end) (used for submmision to Kaggle.com)\n",
    "test_temp = data.ix[891:]\n",
    "trainall = pd.concat([Survived,train_temp], axis=1)\n",
    "trainall.describe()"
   ]
  },
  {
   "cell_type": "markdown",
   "metadata": {},
   "source": [
    "#### We now split the training dataset provided by kaggle to a training dataset (80%) and a cross-validation dataset (20%). It is always crucial to keep a cross-validation dataset to better assess our model and avoid over-fitting. "
   ]
  },
  {
   "cell_type": "code",
   "execution_count": 363,
   "metadata": {
    "collapsed": true
   },
   "outputs": [],
   "source": [
    "from sklearn.cross_validation import train_test_split\n",
    "train, cv_data = train_test_split(trainall, test_size = 0.20)"
   ]
  },
  {
   "cell_type": "code",
   "execution_count": 364,
   "metadata": {
    "collapsed": false
   },
   "outputs": [
    {
     "name": "stdout",
     "output_type": "stream",
     "text": [
      "<class 'pandas.core.frame.DataFrame'>\n",
      "Int64Index: 712 entries, 217 to 50\n",
      "Data columns (total 22 columns):\n",
      "Survived            712 non-null int64\n",
      "PassengerId         712 non-null float64\n",
      "Age                 712 non-null float64\n",
      "SibSp               712 non-null float64\n",
      "Parch               712 non-null float64\n",
      "Fare                712 non-null float64\n",
      "Pclass_1            712 non-null float64\n",
      "Pclass_2            712 non-null float64\n",
      "Pclass_3            712 non-null float64\n",
      "Title_Dr            712 non-null float64\n",
      "Title_HighRanked    712 non-null float64\n",
      "Title_Master        712 non-null float64\n",
      "Title_Miss          712 non-null float64\n",
      "Title_Mr            712 non-null float64\n",
      "Title_Mrs           712 non-null float64\n",
      "Title_Rev           712 non-null float64\n",
      "Title_Royalty       712 non-null float64\n",
      "Embarked_C          712 non-null float64\n",
      "Embarked_Q          712 non-null float64\n",
      "Embarked_S          712 non-null float64\n",
      "Sex_female          712 non-null float64\n",
      "Sex_male            712 non-null float64\n",
      "dtypes: float64(21), int64(1)\n",
      "memory usage: 127.9 KB\n"
     ]
    }
   ],
   "source": [
    "train.info()"
   ]
  },
  {
   "cell_type": "code",
   "execution_count": 365,
   "metadata": {
    "collapsed": false
   },
   "outputs": [
    {
     "data": {
      "text/html": [
       "<div>\n",
       "<table border=\"1\" class=\"dataframe\">\n",
       "  <thead>\n",
       "    <tr style=\"text-align: right;\">\n",
       "      <th></th>\n",
       "      <th>Survived</th>\n",
       "      <th>PassengerId</th>\n",
       "      <th>Age</th>\n",
       "      <th>SibSp</th>\n",
       "      <th>Parch</th>\n",
       "      <th>Fare</th>\n",
       "      <th>Pclass_1</th>\n",
       "      <th>Pclass_2</th>\n",
       "      <th>Pclass_3</th>\n",
       "      <th>Title_Dr</th>\n",
       "      <th>...</th>\n",
       "      <th>Title_Miss</th>\n",
       "      <th>Title_Mr</th>\n",
       "      <th>Title_Mrs</th>\n",
       "      <th>Title_Rev</th>\n",
       "      <th>Title_Royalty</th>\n",
       "      <th>Embarked_C</th>\n",
       "      <th>Embarked_Q</th>\n",
       "      <th>Embarked_S</th>\n",
       "      <th>Sex_female</th>\n",
       "      <th>Sex_male</th>\n",
       "    </tr>\n",
       "  </thead>\n",
       "  <tbody>\n",
       "    <tr>\n",
       "      <th>217</th>\n",
       "      <td>0</td>\n",
       "      <td>0.165902</td>\n",
       "      <td>0.523988</td>\n",
       "      <td>0.125</td>\n",
       "      <td>0.000000</td>\n",
       "      <td>0.052700</td>\n",
       "      <td>0.0</td>\n",
       "      <td>1.0</td>\n",
       "      <td>0.0</td>\n",
       "      <td>0.0</td>\n",
       "      <td>...</td>\n",
       "      <td>0.0</td>\n",
       "      <td>1.0</td>\n",
       "      <td>0.0</td>\n",
       "      <td>0.0</td>\n",
       "      <td>0.0</td>\n",
       "      <td>0.0</td>\n",
       "      <td>0.0</td>\n",
       "      <td>1.0</td>\n",
       "      <td>0.0</td>\n",
       "      <td>1.0</td>\n",
       "    </tr>\n",
       "    <tr>\n",
       "      <th>164</th>\n",
       "      <td>0</td>\n",
       "      <td>0.125382</td>\n",
       "      <td>0.010397</td>\n",
       "      <td>0.500</td>\n",
       "      <td>0.111111</td>\n",
       "      <td>0.077465</td>\n",
       "      <td>0.0</td>\n",
       "      <td>0.0</td>\n",
       "      <td>1.0</td>\n",
       "      <td>0.0</td>\n",
       "      <td>...</td>\n",
       "      <td>0.0</td>\n",
       "      <td>0.0</td>\n",
       "      <td>0.0</td>\n",
       "      <td>0.0</td>\n",
       "      <td>0.0</td>\n",
       "      <td>0.0</td>\n",
       "      <td>0.0</td>\n",
       "      <td>1.0</td>\n",
       "      <td>0.0</td>\n",
       "      <td>1.0</td>\n",
       "    </tr>\n",
       "    <tr>\n",
       "      <th>344</th>\n",
       "      <td>0</td>\n",
       "      <td>0.262997</td>\n",
       "      <td>0.448829</td>\n",
       "      <td>0.000</td>\n",
       "      <td>0.000000</td>\n",
       "      <td>0.025374</td>\n",
       "      <td>0.0</td>\n",
       "      <td>1.0</td>\n",
       "      <td>0.0</td>\n",
       "      <td>0.0</td>\n",
       "      <td>...</td>\n",
       "      <td>0.0</td>\n",
       "      <td>1.0</td>\n",
       "      <td>0.0</td>\n",
       "      <td>0.0</td>\n",
       "      <td>0.0</td>\n",
       "      <td>0.0</td>\n",
       "      <td>0.0</td>\n",
       "      <td>1.0</td>\n",
       "      <td>0.0</td>\n",
       "      <td>1.0</td>\n",
       "    </tr>\n",
       "    <tr>\n",
       "      <th>630</th>\n",
       "      <td>1</td>\n",
       "      <td>0.481651</td>\n",
       "      <td>1.000000</td>\n",
       "      <td>0.000</td>\n",
       "      <td>0.000000</td>\n",
       "      <td>0.058556</td>\n",
       "      <td>1.0</td>\n",
       "      <td>0.0</td>\n",
       "      <td>0.0</td>\n",
       "      <td>0.0</td>\n",
       "      <td>...</td>\n",
       "      <td>0.0</td>\n",
       "      <td>1.0</td>\n",
       "      <td>0.0</td>\n",
       "      <td>0.0</td>\n",
       "      <td>0.0</td>\n",
       "      <td>0.0</td>\n",
       "      <td>0.0</td>\n",
       "      <td>1.0</td>\n",
       "      <td>0.0</td>\n",
       "      <td>1.0</td>\n",
       "    </tr>\n",
       "    <tr>\n",
       "      <th>187</th>\n",
       "      <td>1</td>\n",
       "      <td>0.142966</td>\n",
       "      <td>0.561568</td>\n",
       "      <td>0.000</td>\n",
       "      <td>0.000000</td>\n",
       "      <td>0.051822</td>\n",
       "      <td>1.0</td>\n",
       "      <td>0.0</td>\n",
       "      <td>0.0</td>\n",
       "      <td>0.0</td>\n",
       "      <td>...</td>\n",
       "      <td>0.0</td>\n",
       "      <td>1.0</td>\n",
       "      <td>0.0</td>\n",
       "      <td>0.0</td>\n",
       "      <td>0.0</td>\n",
       "      <td>0.0</td>\n",
       "      <td>0.0</td>\n",
       "      <td>1.0</td>\n",
       "      <td>0.0</td>\n",
       "      <td>1.0</td>\n",
       "    </tr>\n",
       "  </tbody>\n",
       "</table>\n",
       "<p>5 rows × 22 columns</p>\n",
       "</div>"
      ],
      "text/plain": [
       "     Survived  PassengerId       Age  SibSp     Parch      Fare  Pclass_1  \\\n",
       "217         0     0.165902  0.523988  0.125  0.000000  0.052700       0.0   \n",
       "164         0     0.125382  0.010397  0.500  0.111111  0.077465       0.0   \n",
       "344         0     0.262997  0.448829  0.000  0.000000  0.025374       0.0   \n",
       "630         1     0.481651  1.000000  0.000  0.000000  0.058556       1.0   \n",
       "187         1     0.142966  0.561568  0.000  0.000000  0.051822       1.0   \n",
       "\n",
       "     Pclass_2  Pclass_3  Title_Dr    ...     Title_Miss  Title_Mr  Title_Mrs  \\\n",
       "217       1.0       0.0       0.0    ...            0.0       1.0        0.0   \n",
       "164       0.0       1.0       0.0    ...            0.0       0.0        0.0   \n",
       "344       1.0       0.0       0.0    ...            0.0       1.0        0.0   \n",
       "630       0.0       0.0       0.0    ...            0.0       1.0        0.0   \n",
       "187       0.0       0.0       0.0    ...            0.0       1.0        0.0   \n",
       "\n",
       "     Title_Rev  Title_Royalty  Embarked_C  Embarked_Q  Embarked_S  Sex_female  \\\n",
       "217        0.0            0.0         0.0         0.0         1.0         0.0   \n",
       "164        0.0            0.0         0.0         0.0         1.0         0.0   \n",
       "344        0.0            0.0         0.0         0.0         1.0         0.0   \n",
       "630        0.0            0.0         0.0         0.0         1.0         0.0   \n",
       "187        0.0            0.0         0.0         0.0         1.0         0.0   \n",
       "\n",
       "     Sex_male  \n",
       "217       1.0  \n",
       "164       1.0  \n",
       "344       1.0  \n",
       "630       1.0  \n",
       "187       1.0  \n",
       "\n",
       "[5 rows x 22 columns]"
      ]
     },
     "execution_count": 365,
     "metadata": {},
     "output_type": "execute_result"
    }
   ],
   "source": [
    "train.head()"
   ]
  },
  {
   "cell_type": "markdown",
   "metadata": {},
   "source": [
    "This function will be used to output the results in a two-column format required by Kaggle: [PassengerId,Survived]"
   ]
  },
  {
   "cell_type": "code",
   "execution_count": 366,
   "metadata": {
    "collapsed": true
   },
   "outputs": [],
   "source": [
    "def output_csv_results(classifier, X_test, filename):\n",
    "    temp_ = pd.read_csv('test.csv')\n",
    "    Y_test = classifier.predict(X_test)\n",
    "    IdSurv = np.column_stack((temp_['PassengerId'].values,Y_test))\n",
    "    np.savetxt(filename, IdSurv, delimiter=',', header=\"PassengerId,Survived\", comments=\"\", fmt=['%d','%d'])\n",
    "    print(\"Results have been saved to \" + filename + \" successfully.\")"
   ]
  },
  {
   "cell_type": "markdown",
   "metadata": {},
   "source": [
    "#### These are the input features we employ to develop the predictive models. "
   ]
  },
  {
   "cell_type": "code",
   "execution_count": 367,
   "metadata": {
    "collapsed": false
   },
   "outputs": [
    {
     "name": "stdout",
     "output_type": "stream",
     "text": [
      "['PassengerId', 'Age', 'SibSp', 'Parch', 'Fare', 'Pclass_1', 'Pclass_2', 'Pclass_3', 'Title_Dr', 'Title_HighRanked', 'Title_Master', 'Title_Miss', 'Title_Mr', 'Title_Mrs', 'Title_Rev', 'Title_Royalty', 'Embarked_C', 'Embarked_Q', 'Embarked_S', 'Sex_female', 'Sex_male']\n"
     ]
    }
   ],
   "source": [
    "feature_names = list(train.columns.values)\n",
    "feature_names.remove('Survived')\n",
    "print(feature_names)\n",
    "X_train = train[feature_names]\n",
    "Y_train = train['Survived']\n",
    "X_cv = cv_data[feature_names]\n",
    "Y_cv = cv_data['Survived']\n",
    "X_test = test_temp[feature_names]"
   ]
  },
  {
   "cell_type": "markdown",
   "metadata": {},
   "source": [
    "## 3.1 Logistic Regression\n",
    "\n",
    "Scikit-Learn provides useful tools to various regression models. Here, we start with a simple logistic regression. \n",
    "The only input parameter is the regularization parameter C (inverse of the regularization parameter). \n",
    "\n",
    "We varry this parameter and compare the accuracy of the obtained model by applying on both training dataset and the cross-validation set. It is crucial to perform the second test to avoid over-fitting.  "
   ]
  },
  {
   "cell_type": "code",
   "execution_count": 368,
   "metadata": {
    "collapsed": false,
    "scrolled": true
   },
   "outputs": [
    {
     "data": {
      "image/png": "[encoded data removed]",
      "text/plain": [
       "<matplotlib.figure.Figure at 0x11639dc10>"
      ]
     },
     "metadata": {},
     "output_type": "display_data"
    }
   ],
   "source": [
    "regular_coeff = [1e-5,1e-4,1e-3,1e-2,1e-1,1,1e1,1e2,1e3,1e4,1e5]\n",
    "e_train = []\n",
    "e_cv = []\n",
    "for reg_param in regular_coeff:\n",
    "    logistic_model = LogisticRegression(C=reg_param, tol=1e-8, max_iter=1000)\n",
    "    logistic_model.fit(X_train,Y_train)\n",
    "    logistic_model.predict(X_train)\n",
    "    # check the accuracy of model on our traning dataset\n",
    "    e_train.append(logistic_model.score(X_train,Y_train)*100)\n",
    "    logistic_model.predict(X_cv)\n",
    "    # check the accuracy of model on cv-dataset\n",
    "    e_cv.append(logistic_model.score(X_cv,Y_cv)*100)\n",
    "\n",
    "# Let's now plot the accuracy for different regularization parameter\n",
    "figure = plt.figure(figsize=(11,5))\n",
    "plt.semilogx(regular_coeff, e_train, 'r-', label=\"Training\")\n",
    "plt.semilogx(regular_coeff, e_cv, 'b--', label=\"Cross-validation\")\n",
    "plt.legend(loc='lower right')\n",
    "plt.grid(True)\n",
    "plt.xlabel('C (Regularization parameter)')\n",
    "plt.ylabel('Accuracy (%)')\n",
    "plt.title('')\n",
    "plt.show()"
   ]
  },
  {
   "cell_type": "markdown",
   "metadata": {},
   "source": [
    "It seems that best fitting value for C is between 1 and 10 where both accuracy of training and cross-validation dataset plateus. We choose the regularization parameter to be qual to 5. Note that smaller values of C indicate higher regularization.\n",
    "\n",
    "We now output the result to file. This will be the submission file to kaggle.com"
   ]
  },
  {
   "cell_type": "code",
   "execution_count": 369,
   "metadata": {
    "collapsed": false
   },
   "outputs": [
    {
     "name": "stdout",
     "output_type": "stream",
     "text": [
      "Training accuracy (Logistic Model) %: Training dataset: 83.5674157303\n",
      "Training accuracy (Logistic Model) %: CV dataset: 84.9162011173\n",
      "Results have been saved to resultLM.csv successfully.\n"
     ]
    }
   ],
   "source": [
    "best_C = 5\n",
    "logistic_model = LogisticRegression(C=best_C, tol=1e-8, max_iter=1000)\n",
    "logistic_model.fit(X_train,Y_train)\n",
    "print('Training accuracy (Logistic Model) %: Training dataset: ' + str(logistic_model.score(X_train,Y_train)*100))\n",
    "print('Training accuracy (Logistic Model) %: CV dataset: ' + str(logistic_model.score(X_cv,Y_cv)*100))\n",
    "output_csv_results(logistic_model, X_test, \"resultLM.csv\")"
   ]
  },
  {
   "cell_type": "markdown",
   "metadata": {},
   "source": [
    "### This gave us a score equal to 0.78469 on kaggle dashboard. \n",
    "\n",
    "This is a good score when compared to Random Forests (see below). Having enough and relevant features extracted from the dataset is contributing to this. "
   ]
  },
  {
   "cell_type": "markdown",
   "metadata": {},
   "source": [
    "## 3.2 Random Forest\n",
    "\n",
    "Random forests have proved to be very powerful classification tool. They are based on decision trees, bagging and ensemble learning. For more information, visit: https://en.wikipedia.org/wiki/Random_forest\n",
    "\n",
    "There are several parameters that can influence the performance of a random forest model. Here, we only consider fine-tunning two important arguments: \n",
    "\n",
    "-- 'n_estimators': The number of trees in the forest \n",
    "\n",
    "-- 'max_depth': The maximum depth of the tree. "
   ]
  },
  {
   "cell_type": "markdown",
   "metadata": {},
   "source": [
    "Let's start with max_depth: "
   ]
  },
  {
   "cell_type": "code",
   "execution_count": 382,
   "metadata": {
    "collapsed": false
   },
   "outputs": [
    {
     "data": {
      "image/png": "[encoded data removed]",
      "text/plain": [
       "<matplotlib.figure.Figure at 0x1168d6210>"
      ]
     },
     "metadata": {},
     "output_type": "display_data"
    }
   ],
   "source": [
    "e_train = []\n",
    "e_cv = []\n",
    "max_depth_ = range(3,10)\n",
    "for sn in max_depth_:\n",
    "    rand_forest = RandomForestClassifier(max_features='sqrt', n_estimators=150, criterion='gini', max_depth=sn, oob_score=True)\n",
    "    rand_forest.fit(X_train, Y_train)\n",
    "    rand_forest.predict(X_train)\n",
    "    e_train.append(rand_forest.score(X_train,Y_train)*100)\n",
    "    rand_forest.predict(X_cv)\n",
    "    e_cv.append(rand_forest.score(X_cv,Y_cv)*100)\n",
    "\n",
    "figure = plt.figure(figsize=(11,5))\n",
    "plt.plot(max_depth_, e_train, 'r-', label=\"Training\")\n",
    "plt.plot(max_depth_, e_cv, 'b--', label=\"Cross-validation\")\n",
    "plt.legend(loc='upper left')\n",
    "plt.grid(True)\n",
    "plt.xlabel('max_depth')\n",
    "plt.ylabel('Accuracy (%)')\n",
    "plt.title('')\n",
    "plt.show()"
   ]
  },
  {
   "cell_type": "markdown",
   "metadata": {},
   "source": [
    "It seems that max_depth =5 or 6 would be a good number. Of course we plotted this graph n_estimators=150. One can try different values, but the value of 5 or 6 seems to be the consistent range. \n",
    "\n",
    "Now, we investigate the influence of the number of trees via tunning n_estimators parameter. Here, we set max_depth = 5. "
   ]
  },
  {
   "cell_type": "code",
   "execution_count": 384,
   "metadata": {
    "collapsed": false
   },
   "outputs": [
    {
     "data": {
      "image/png": "[encoded data removed]",
      "text/plain": [
       "<matplotlib.figure.Figure at 0x116870fd0>"
      ]
     },
     "metadata": {},
     "output_type": "display_data"
    }
   ],
   "source": [
    "e_train = []\n",
    "e_cv = []\n",
    "n_estimators_ = range(30,250,10)\n",
    "for ns in n_estimators_:\n",
    "    rand_forest = RandomForestClassifier(max_features='sqrt',n_estimators=ns,max_depth=5,criterion='gini', oob_score=True)\n",
    "    rand_forest.fit(X_train, Y_train)\n",
    "    rand_forest.predict(X_train)\n",
    "    e_train.append(rand_forest.score(X_train,Y_train)*100)\n",
    "    rand_forest.predict(X_cv)\n",
    "    e_cv.append(rand_forest.score(X_cv,Y_cv)*100)\n",
    "\n",
    "figure = plt.figure(figsize=(11,5))\n",
    "plt.plot(n_estimators_, e_train, 'r-', label=\"Training\")\n",
    "plt.plot(n_estimators_, e_cv, 'b--', label=\"Cross-validation\")\n",
    "plt.legend(loc='lower right')\n",
    "plt.xlabel('n_estimators')\n",
    "plt.ylabel('Accuracy (%)')\n",
    "plt.title('')\n",
    "plt.show()"
   ]
  },
  {
   "cell_type": "markdown",
   "metadata": {},
   "source": [
    "It seems that n_estimatar is not playing a crucial role. Any value larger than 70 is giving almost identical result based on cross-validation set. \n",
    "We choose n_estimator = 110. "
   ]
  },
  {
   "cell_type": "code",
   "execution_count": 385,
   "metadata": {
    "collapsed": false
   },
   "outputs": [
    {
     "name": "stdout",
     "output_type": "stream",
     "text": [
      "Training accuracy (Random forest)%: Training dataset: 85.393258427\n",
      "Training accuracy (Random forest)%: CV dataset: 86.0335195531\n",
      "Results have been saved to resultRF.csv successfully.\n"
     ]
    }
   ],
   "source": [
    "rand_forest = RandomForestClassifier(max_features='sqrt',n_estimators=110,max_depth=5,criterion='gini', random_state=100,oob_score=True)\n",
    "rand_forest.fit(X_train, Y_train)\n",
    "print('Training accuracy (Random forest)%: Training dataset: ' + str(rand_forest.score(X_train,Y_train)*100))\n",
    "print('Training accuracy (Random forest)%: CV dataset: ' + str(rand_forest.score(X_cv,Y_cv)*100))\n",
    "output_csv_results(rand_forest, X_test, \"resultRF.csv\")"
   ]
  },
  {
   "cell_type": "markdown",
   "metadata": {},
   "source": [
    "### This gave us a score of 0.79904 score on the competition scoreboard. "
   ]
  },
  {
   "cell_type": "code",
   "execution_count": null,
   "metadata": {
    "collapsed": true
   },
   "outputs": [],
   "source": []
  }
 ],
 "metadata": {
  "kernelspec": {
   "display_name": "Python [Root]",
   "language": "python",
   "name": "Python [Root]"
  },
  "language_info": {
   "codemirror_mode": {
    "name": "ipython",
    "version": 2
   },
   "file_extension": ".py",
   "mimetype": "text/x-python",
   "name": "python",
   "nbconvert_exporter": "python",
   "pygments_lexer": "ipython2",
   "version": "2.7.12"
  }
 },
 "nbformat": 4,
 "nbformat_minor": 0
}
